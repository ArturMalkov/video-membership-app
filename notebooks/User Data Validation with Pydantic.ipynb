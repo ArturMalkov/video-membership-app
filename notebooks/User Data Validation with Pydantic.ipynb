{
 "cells": [
  {
   "cell_type": "code",
   "execution_count": 1,
   "id": "9962ef77",
   "metadata": {},
   "outputs": [
    {
     "name": "stdout",
     "output_type": "stream",
     "text": [
      "C:\\Users\\436\\PycharmProjects\\video-membership-app\n"
     ]
    }
   ],
   "source": [
    "%cd C:\\Users\\436\\PycharmProjects\\video-membership-app"
   ]
  },
  {
   "cell_type": "code",
   "execution_count": 2,
   "id": "9d93c0ef",
   "metadata": {},
   "outputs": [],
   "source": [
    "from app import db\n",
    "from app.users.models import User\n",
    "from cassandra.cqlengine.management import sync_table"
   ]
  },
  {
   "cell_type": "code",
   "execution_count": 3,
   "id": "6204434d",
   "metadata": {},
   "outputs": [],
   "source": [
    "db.get_session()\n",
    "sync_table(User)"
   ]
  },
  {
   "cell_type": "code",
   "execution_count": 12,
   "id": "509de078",
   "metadata": {},
   "outputs": [],
   "source": [
    "post_data = {\n",
    "    \"email\": \"abc@abc.com\",\n",
    "    \"password\": \"abc123\"\n",
    "}"
   ]
  },
  {
   "cell_type": "code",
   "execution_count": 14,
   "id": "18b35346",
   "metadata": {},
   "outputs": [],
   "source": [
    "from pydantic import BaseModel, EmailStr, SecretStr, validator"
   ]
  },
  {
   "cell_type": "code",
   "execution_count": 10,
   "id": "dfba5e83",
   "metadata": {},
   "outputs": [],
   "source": [
    "class UserLoginSchema(BaseModel):\n",
    "    email: EmailStr\n",
    "    password: SecretStr"
   ]
  },
  {
   "cell_type": "code",
   "execution_count": 13,
   "id": "0603a3df",
   "metadata": {},
   "outputs": [
    {
     "data": {
      "text/plain": [
       "UserLoginSchema(email='abc@abc.com', password=SecretStr('**********'))"
      ]
     },
     "execution_count": 13,
     "metadata": {},
     "output_type": "execute_result"
    }
   ],
   "source": [
    "UserLoginSchema(**post_data)"
   ]
  },
  {
   "cell_type": "code",
   "execution_count": 16,
   "id": "0cbf3711",
   "metadata": {},
   "outputs": [],
   "source": [
    "class UserSignupSchema(BaseModel):\n",
    "    email: EmailStr\n",
    "    password: SecretStr\n",
    "    password_confirm: SecretStr\n",
    "        \n",
    "    @validator(\"password_confirm\")  # which field to run this method on\n",
    "    def passwords_match(cls, v, values, **kwargs):\n",
    "        password = values.get(\"password\")\n",
    "        password_confirm = v\n",
    "        if password != password_confirm:\n",
    "            raise ValueError(\"Passwords do not match.\")\n",
    "        \n",
    "        return v  # return the original value of the password"
   ]
  },
  {
   "cell_type": "code",
   "execution_count": 19,
   "id": "0f7530c4",
   "metadata": {},
   "outputs": [],
   "source": [
    "data = UserSignupSchema(email=\"abc@gmail.com\", password=\"abc123\", password_confirm=\"abc123\")"
   ]
  },
  {
   "cell_type": "code",
   "execution_count": 32,
   "id": "257becf9",
   "metadata": {},
   "outputs": [
    {
     "data": {
      "text/plain": [
       "[<User(email=erikson@mail.ru, user_id=b1911c5e-77a4-11ed-8ce1-b40ede91078e)>,\n",
       " <User(email=abc@gmail.com, user_id=f67299f5-77a4-11ed-956d-b40ede91078e)>,\n",
       " <User(email=cbd@mail.ru, user_id=0e77e43c-77a5-11ed-aca2-b40ede91078e)>,\n",
       " <User(email=hello@mail.ru, user_id=b7116c40-7727-11ed-852d-b40ede91078e)>,\n",
       " <User(email=hello@mail.ru, user_id=dc46e549-7727-11ed-a36b-b40ede91078e)>]"
      ]
     },
     "execution_count": 32,
     "metadata": {},
     "output_type": "execute_result"
    }
   ],
   "source": [
    "list(User.objects.all())"
   ]
  },
  {
   "cell_type": "code",
   "execution_count": null,
   "id": "9caea468",
   "metadata": {},
   "outputs": [],
   "source": []
  }
 ],
 "metadata": {
  "kernelspec": {
   "display_name": "Python 3 (ipykernel)",
   "language": "python",
   "name": "python3"
  },
  "language_info": {
   "codemirror_mode": {
    "name": "ipython",
    "version": 3
   },
   "file_extension": ".py",
   "mimetype": "text/x-python",
   "name": "python",
   "nbconvert_exporter": "python",
   "pygments_lexer": "ipython3",
   "version": "3.10.0"
  }
 },
 "nbformat": 4,
 "nbformat_minor": 5
}
